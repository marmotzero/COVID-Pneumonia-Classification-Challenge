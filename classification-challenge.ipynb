{
 "cells": [
  {
   "cell_type": "code",
   "execution_count": 51,
   "metadata": {},
   "outputs": [],
   "source": [
    "import tensorflow as tf\n",
    "from tensorflow import keras\n",
    "from tensorflow.keras.models import Sequential\n",
    "from tensorflow.keras.preprocessing.image import ImageDataGenerator\n",
    "\n",
    "from sklearn.metrics import classification_report\n",
    "from sklearn.metrics import confusion_matrix\n",
    "\n",
    "from tensorflow.keras.callbacks import EarlyStopping\n",
    "from tensorflow.keras import layers\n",
    "\n",
    "import matplotlib.pyplot as plt\n",
    "import numpy"
   ]
  },
  {
   "cell_type": "markdown",
   "metadata": {},
   "source": [
    "Loading all of the images out of the file system. Rescale the images to fit on a 0-1 scale, and also mess around with the training images in various ways to generate more synthetic data to train on. \n",
    "\n",
    "For reference, the resulting shape is (X, 256, 256, 1), which represents ([# images], [height], [width], [color channels])"
   ]
  },
  {
   "cell_type": "code",
   "execution_count": 65,
   "metadata": {},
   "outputs": [
    {
     "name": "stdout",
     "output_type": "stream",
     "text": [
      "Found 251 images belonging to 3 classes.\n"
     ]
    },
    {
     "name": "stdout",
     "output_type": "stream",
     "text": [
      "Found 66 images belonging to 3 classes.\n"
     ]
    }
   ],
   "source": [
    "training_data_generator = ImageDataGenerator(\n",
    "    rescale=1.0/255,\n",
    "    zoom_range=0.2,\n",
    "    rotation_range=15,\n",
    "    width_shift_range=0.05,\n",
    "    height_shift_range=0.05\n",
    ")\n",
    "\n",
    "test_data_generator = ImageDataGenerator(\n",
    "    rescale=1.0/255\n",
    ")\n",
    "\n",
    "batch_size = 33\n",
    "\n",
    "training_iterator = training_data_generator.flow_from_directory('Covid19-dataset/train', class_mode='categorical', color_mode='grayscale', batch_size=batch_size)\n",
    "test_iterator = test_data_generator.flow_from_directory('Covid19-dataset/test', class_mode='categorical', color_mode='grayscale', batch_size=batch_size)\n"
   ]
  },
  {
   "cell_type": "markdown",
   "metadata": {},
   "source": [
    "Build the actual model. It is a convolutional neural network with multiple convolution and pooling layers before the fully connected dense layers\n",
    "\n",
    "Dropout layers were added to try to reduce a noticeable gap in the loss scores between training and test"
   ]
  },
  {
   "cell_type": "code",
   "execution_count": 77,
   "metadata": {},
   "outputs": [
    {
     "name": "stdout",
     "output_type": "stream",
     "text": [
      "Model: \"sequential_16\"\n",
      "_________________________________________________________________\n",
      " Layer (type)                Output Shape              Param #   \n",
      "=================================================================\n",
      " conv2d_28 (Conv2D)          (None, 252, 252, 10)      260       \n",
      "                                                                 \n",
      " max_pooling2d_28 (MaxPooli  (None, 126, 126, 10)      0         \n",
      " ng2D)                                                           \n",
      "                                                                 \n",
      " dropout_6 (Dropout)         (None, 126, 126, 10)      0         \n",
      "                                                                 \n",
      " conv2d_29 (Conv2D)          (None, 124, 124, 10)      910       \n",
      "                                                                 \n",
      " max_pooling2d_29 (MaxPooli  (None, 62, 62, 10)        0         \n",
      " ng2D)                                                           \n",
      "                                                                 \n",
      " dropout_7 (Dropout)         (None, 62, 62, 10)        0         \n",
      "                                                                 \n",
      " flatten_13 (Flatten)        (None, 38440)             0         \n",
      "                                                                 \n",
      " dense_13 (Dense)            (None, 3)                 115323    \n",
      "                                                                 \n",
      "=================================================================\n",
      "Total params: 116493 (455.05 KB)\n",
      "Trainable params: 116493 (455.05 KB)\n",
      "Non-trainable params: 0 (0.00 Byte)\n",
      "_________________________________________________________________\n"
     ]
    }
   ],
   "source": [
    "model = Sequential()\n",
    "model.add(tf.keras.Input(shape=(256, 256, 1)))\n",
    "model.add(tf.keras.layers.Conv2D(10,5,activation='relu',padding='valid'))\n",
    "model.add(tf.keras.layers.MaxPooling2D(pool_size=(2,2)))\n",
    "model.add(tf.keras.layers.Dropout(0.4))\n",
    "model.add(tf.keras.layers.Conv2D(10,3,activation='relu',padding='valid'))\n",
    "model.add(tf.keras.layers.MaxPooling2D(pool_size=(2,2)))\n",
    "model.add(tf.keras.layers.Dropout(0.4))\n",
    "model.add(tf.keras.layers.Flatten())\n",
    "model.add(tf.keras.layers.Dense(3, activation='softmax'))\n",
    "\n",
    "model.summary()\n"
   ]
  },
  {
   "cell_type": "markdown",
   "metadata": {},
   "source": [
    "Compile the model, and set the parameters for optimization, loss, and metrics"
   ]
  },
  {
   "cell_type": "code",
   "execution_count": 78,
   "metadata": {},
   "outputs": [],
   "source": [
    "model.compile(\n",
    "    optimizer=tf.keras.optimizers.Adam(learning_rate=0.001),\n",
    "    loss='categorical_crossentropy', \n",
    "    metrics=[tf.keras.metrics.CategoricalAccuracy(), tf.keras.metrics.AUC()]\n",
    ")\n"
   ]
  },
  {
   "cell_type": "markdown",
   "metadata": {},
   "source": [
    "Fit the model"
   ]
  },
  {
   "cell_type": "code",
   "execution_count": 79,
   "metadata": {},
   "outputs": [
    {
     "name": "stdout",
     "output_type": "stream",
     "text": [
      "Epoch 1/50\n"
     ]
    },
    {
     "name": "stderr",
     "output_type": "stream",
     "text": [
      "2024-01-26 13:07:19.038839: E tensorflow/core/grappler/optimizers/meta_optimizer.cc:961] layout failed: INVALID_ARGUMENT: Size of values 0 does not match size of permutation 4 @ fanin shape insequential_16/dropout_6/dropout/SelectV2-2-TransposeNHWCToNCHW-LayoutOptimizer\n"
     ]
    },
    {
     "name": "stdout",
     "output_type": "stream",
     "text": [
      "7/7 [==============================] - 2s 116ms/step - loss: 1.3905 - categorical_accuracy: 0.4821 - auc_16: 0.6508 - val_loss: 0.8109 - val_categorical_accuracy: 0.7121 - val_auc_16: 0.8869\n",
      "Epoch 2/50\n",
      "7/7 [==============================] - 1s 122ms/step - loss: 0.6517 - categorical_accuracy: 0.7211 - auc_16: 0.8848 - val_loss: 0.7348 - val_categorical_accuracy: 0.7424 - val_auc_16: 0.9070\n",
      "Epoch 3/50\n",
      "7/7 [==============================] - 1s 121ms/step - loss: 0.5940 - categorical_accuracy: 0.7410 - auc_16: 0.9019 - val_loss: 0.7552 - val_categorical_accuracy: 0.7273 - val_auc_16: 0.8713\n",
      "Epoch 4/50\n",
      "7/7 [==============================] - 1s 128ms/step - loss: 0.5343 - categorical_accuracy: 0.8008 - auc_16: 0.9232 - val_loss: 0.6546 - val_categorical_accuracy: 0.7879 - val_auc_16: 0.9231\n",
      "Epoch 5/50\n",
      "7/7 [==============================] - 1s 125ms/step - loss: 0.4648 - categorical_accuracy: 0.8088 - auc_16: 0.9405 - val_loss: 0.6766 - val_categorical_accuracy: 0.7121 - val_auc_16: 0.9028\n",
      "Epoch 6/50\n",
      "7/7 [==============================] - 1s 126ms/step - loss: 0.4760 - categorical_accuracy: 0.7928 - auc_16: 0.9391 - val_loss: 0.6230 - val_categorical_accuracy: 0.7727 - val_auc_16: 0.9206\n",
      "Epoch 7/50\n",
      "7/7 [==============================] - 1s 128ms/step - loss: 0.4376 - categorical_accuracy: 0.8287 - auc_16: 0.9463 - val_loss: 0.6608 - val_categorical_accuracy: 0.7879 - val_auc_16: 0.9166\n",
      "Epoch 8/50\n",
      "7/7 [==============================] - 1s 128ms/step - loss: 0.4181 - categorical_accuracy: 0.8167 - auc_16: 0.9511 - val_loss: 0.6102 - val_categorical_accuracy: 0.7576 - val_auc_16: 0.9241\n",
      "Epoch 9/50\n",
      "7/7 [==============================] - 1s 128ms/step - loss: 0.4178 - categorical_accuracy: 0.8207 - auc_16: 0.9504 - val_loss: 0.6016 - val_categorical_accuracy: 0.7424 - val_auc_16: 0.9233\n",
      "Epoch 10/50\n",
      "7/7 [==============================] - 1s 125ms/step - loss: 0.3610 - categorical_accuracy: 0.8566 - auc_16: 0.9641 - val_loss: 0.6036 - val_categorical_accuracy: 0.8030 - val_auc_16: 0.9254\n",
      "Epoch 11/50\n",
      "7/7 [==============================] - 1s 125ms/step - loss: 0.3657 - categorical_accuracy: 0.8406 - auc_16: 0.9618 - val_loss: 0.5718 - val_categorical_accuracy: 0.8030 - val_auc_16: 0.9333\n",
      "Epoch 12/50\n",
      "7/7 [==============================] - 1s 124ms/step - loss: 0.3515 - categorical_accuracy: 0.8805 - auc_16: 0.9645 - val_loss: 0.5792 - val_categorical_accuracy: 0.8333 - val_auc_16: 0.9295\n",
      "Epoch 13/50\n",
      "7/7 [==============================] - 1s 125ms/step - loss: 0.3407 - categorical_accuracy: 0.8685 - auc_16: 0.9669 - val_loss: 0.5400 - val_categorical_accuracy: 0.7576 - val_auc_16: 0.9294\n",
      "Epoch 14/50\n",
      "7/7 [==============================] - 1s 125ms/step - loss: 0.3187 - categorical_accuracy: 0.8805 - auc_16: 0.9719 - val_loss: 0.5934 - val_categorical_accuracy: 0.7879 - val_auc_16: 0.9154\n",
      "Epoch 15/50\n",
      "7/7 [==============================] - 1s 128ms/step - loss: 0.3323 - categorical_accuracy: 0.8606 - auc_16: 0.9684 - val_loss: 0.6041 - val_categorical_accuracy: 0.8333 - val_auc_16: 0.9387\n",
      "Epoch 16/50\n",
      "7/7 [==============================] - 1s 124ms/step - loss: 0.2813 - categorical_accuracy: 0.8924 - auc_16: 0.9798 - val_loss: 0.5506 - val_categorical_accuracy: 0.8485 - val_auc_16: 0.9313\n",
      "Epoch 17/50\n",
      "7/7 [==============================] - 1s 132ms/step - loss: 0.3292 - categorical_accuracy: 0.8765 - auc_16: 0.9683 - val_loss: 0.5433 - val_categorical_accuracy: 0.8485 - val_auc_16: 0.9432\n",
      "Epoch 18/50\n",
      "7/7 [==============================] - 1s 121ms/step - loss: 0.3438 - categorical_accuracy: 0.8486 - auc_16: 0.9671 - val_loss: 0.5225 - val_categorical_accuracy: 0.8333 - val_auc_16: 0.9461\n",
      "Epoch 19/50\n",
      "7/7 [==============================] - 1s 121ms/step - loss: 0.3050 - categorical_accuracy: 0.8606 - auc_16: 0.9736 - val_loss: 0.5314 - val_categorical_accuracy: 0.8485 - val_auc_16: 0.9427\n",
      "Epoch 20/50\n",
      "7/7 [==============================] - 1s 125ms/step - loss: 0.3121 - categorical_accuracy: 0.8685 - auc_16: 0.9739 - val_loss: 0.5948 - val_categorical_accuracy: 0.8636 - val_auc_16: 0.9393\n",
      "Epoch 21/50\n",
      "7/7 [==============================] - 1s 125ms/step - loss: 0.2948 - categorical_accuracy: 0.9084 - auc_16: 0.9755 - val_loss: 0.5243 - val_categorical_accuracy: 0.8636 - val_auc_16: 0.9449\n",
      "Epoch 22/50\n",
      "7/7 [==============================] - 1s 123ms/step - loss: 0.2471 - categorical_accuracy: 0.9044 - auc_16: 0.9831 - val_loss: 0.4665 - val_categorical_accuracy: 0.8939 - val_auc_16: 0.9532\n",
      "Epoch 23/50\n",
      "7/7 [==============================] - 1s 125ms/step - loss: 0.3160 - categorical_accuracy: 0.8725 - auc_16: 0.9722 - val_loss: 0.5499 - val_categorical_accuracy: 0.8788 - val_auc_16: 0.9463\n",
      "Epoch 24/50\n",
      "7/7 [==============================] - 1s 126ms/step - loss: 0.2368 - categorical_accuracy: 0.9124 - auc_16: 0.9861 - val_loss: 0.4631 - val_categorical_accuracy: 0.8485 - val_auc_16: 0.9498\n",
      "Epoch 25/50\n",
      "7/7 [==============================] - 1s 127ms/step - loss: 0.2725 - categorical_accuracy: 0.8924 - auc_16: 0.9792 - val_loss: 0.4482 - val_categorical_accuracy: 0.8333 - val_auc_16: 0.9508\n",
      "Epoch 26/50\n",
      "7/7 [==============================] - 1s 132ms/step - loss: 0.2658 - categorical_accuracy: 0.8884 - auc_16: 0.9810 - val_loss: 0.5291 - val_categorical_accuracy: 0.8182 - val_auc_16: 0.9381\n",
      "Epoch 27/50\n",
      "7/7 [==============================] - 1s 128ms/step - loss: 0.3069 - categorical_accuracy: 0.8924 - auc_16: 0.9736 - val_loss: 0.5831 - val_categorical_accuracy: 0.8485 - val_auc_16: 0.9346\n",
      "Epoch 28/50\n",
      "7/7 [==============================] - 1s 125ms/step - loss: 0.2828 - categorical_accuracy: 0.8964 - auc_16: 0.9789 - val_loss: 0.4861 - val_categorical_accuracy: 0.8333 - val_auc_16: 0.9403\n",
      "Epoch 29/50\n",
      "7/7 [==============================] - 1s 131ms/step - loss: 0.2540 - categorical_accuracy: 0.9044 - auc_16: 0.9819 - val_loss: 0.4840 - val_categorical_accuracy: 0.8788 - val_auc_16: 0.9490\n",
      "Epoch 30/50\n",
      "7/7 [==============================] - 1s 128ms/step - loss: 0.2687 - categorical_accuracy: 0.8964 - auc_16: 0.9793 - val_loss: 0.4745 - val_categorical_accuracy: 0.8485 - val_auc_16: 0.9483\n"
     ]
    },
    {
     "data": {
      "text/plain": [
       "<keras.src.callbacks.History at 0x7efe6cef6290>"
      ]
     },
     "execution_count": 79,
     "metadata": {},
     "output_type": "execute_result"
    }
   ],
   "source": [
    "early_stopping = tf.keras.callbacks.EarlyStopping(monitor='val_loss', patience=5, restore_best_weights=True)\n",
    "\n",
    "model.fit(\n",
    "    training_iterator, steps_per_epoch=training_iterator.samples/batch_size,\n",
    "    epochs=50,\n",
    "    validation_data=test_iterator,\n",
    "    validation_steps=test_iterator.samples/batch_size,\n",
    "    callbacks=[early_stopping]\n",
    ")"
   ]
  }
 ],
 "metadata": {
  "kernelspec": {
   "display_name": "Python 3",
   "language": "python",
   "name": "python3"
  },
  "language_info": {
   "codemirror_mode": {
    "name": "ipython",
    "version": 3
   },
   "file_extension": ".py",
   "mimetype": "text/x-python",
   "name": "python",
   "nbconvert_exporter": "python",
   "pygments_lexer": "ipython3",
   "version": "3.11.7"
  }
 },
 "nbformat": 4,
 "nbformat_minor": 2
}
